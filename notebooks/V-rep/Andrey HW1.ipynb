{
 "nbformat": 4,
 "nbformat_minor": 2,
 "metadata": {
  "language_info": {
   "name": "python",
   "codemirror_mode": {
    "name": "ipython",
    "version": 3
   },
   "version": "3.7.4"
  },
  "orig_nbformat": 2,
  "file_extension": ".py",
  "mimetype": "text/x-python",
  "name": "python",
  "npconvert_exporter": "python",
  "pygments_lexer": "ipython3",
  "version": 3
 },
 "cells": [
  {
   "cell_type": "code",
   "execution_count": 1,
   "metadata": {},
   "outputs": [],
   "source": [
    "from python.utility.vrep import vrep\n",
    "import numpy as np\n",
    "import matplotlib.pyplot as plt\n",
    "import matplotlib.colors as col\n",
    "from skimage import draw, measure, data, color"
   ]
  },
  {
   "cell_type": "code",
   "execution_count": 2,
   "metadata": {},
   "outputs": [],
   "source": [
    "# plt.figure(figsize=(15,8))\n",
    "# plt.subplot(121)\n",
    "# plt.imshow(data.astronaut())\n",
    "# plt.subplot(122)\n",
    "\n",
    "# # img_h = color.rgb2hsv(data.astronaut())[...,0]<0.01\n",
    "\n",
    "# img_h = color.rgb2hsv(data.astronaut())[...,2] > 0.5\n",
    "\n",
    "# plt.imshow(img_h)\n",
    "# plt.show()"
   ]
  },
  {
   "cell_type": "code",
   "execution_count": 3,
   "metadata": {},
   "outputs": [
    {
     "name": "stdout",
     "output_type": "stream",
     "text": "Program started\n"
    }
   ],
   "source": [
    "print ('Program started')\n",
    "vrep.simxFinish(-1) # just in case, close all opened connections\n",
    "clientID = vrep.simxStart('127.0.0.1',19999,True,True,5000,5)"
   ]
  },
  {
   "cell_type": "code",
   "execution_count": 4,
   "metadata": {},
   "outputs": [
    {
     "ename": "TabError",
     "evalue": "inconsistent use of tabs and spaces in indentation (<ipython-input-4-5663d2067a78>, line 29)",
     "output_type": "error",
     "traceback": [
      "\u001b[1;36m  File \u001b[1;32m\"<ipython-input-4-5663d2067a78>\"\u001b[1;36m, line \u001b[1;32m29\u001b[0m\n\u001b[1;33m    vrep.simxSetIntegerSignal(clientID, \"stop\", 1, vrep.simx_opmode_streaming)\u001b[0m\n\u001b[1;37m                                                                              ^\u001b[0m\n\u001b[1;31mTabError\u001b[0m\u001b[1;31m:\u001b[0m inconsistent use of tabs and spaces in indentation\n"
     ]
    }
   ],
   "source": [
    "if clientID!=-1:\n",
    "    print('Connected to remote API server')\n",
    "    print('Vision Sensor object handling')\n",
    "    res, v1 = vrep.simxGetObjectHandle(clientID, 'camera', vrep.simx_opmode_oneshot_wait)\n",
    "    print('Getting first image')\n",
    "    err, resolution, image = vrep.simxGetVisionSensorImage(clientID, v1, 0, vrep.simx_opmode_streaming)\n",
    "    while (sim.simxGetConnectionId(clientID) != -1):\n",
    "        err, resolution, image = vrep.simxGetVisionSensorImage(clientID, v1, 0, vrep.simx_opmode_buffer)\n",
    "        if err == sim.simx_return_ok:\n",
    "        \t# print(\"image OK!!!\")\n",
    "        \timg = np.array(image,dtype=np.uint8)\n",
    "        \timg.resize([resolution[1],resolution[0],3])\n",
    "\n",
    "        \timg_b_r = color.rgb2hsv(img)[...,2] > 0.9\n",
    "        \timg_c_r = color.rgb2hsv(img)[...,0] < 0.001\n",
    "\n",
    "        \timg_e = img_b_r & img_c_r\n",
    "\n",
    "        \timage_label = measure.label(img_e)\n",
    "\n",
    "        \tmax = 0\n",
    "\n",
    "        \tfor reg in measure.regionprops(image_label):\n",
    "        \t\tif reg.area > max:\n",
    "        \t\t\tmax = reg.area\n",
    "            \n",
    "        \tif max > 100000:\n",
    "        \t\tprint(\"Stop!\")\n",
    "\t\t\t\tvrep.simxSetIntegerSignal(clientID, \"stop\", 1, vrep.simx_opmode_streaming)\n",
    "\n",
    "        \t# img_b_g = color.rgb2hsv(img)[...,2] > 0.9\n",
    "        \t# img_c_g = color.rgb2hsv(img)[...,0] > 0.9\n",
    "\n",
    "        \tplt.imshow(img_e)\n",
    "        \tplt.show()\n",
    "\n",
    "        # elif err == sim.simx_return_novalue_flag:\n",
    "        # \t# print(\"no image yet\")\n",
    "        # \tpass\n",
    "        # else:\n",
    "        # \tprint(\"Err = \", err)\n",
    "else:\n",
    "\tprint(\"Failed to connect to remote API Server\")\n",
    "\tvrep.simxFinish(clientID)"
   ]
  }
 ]
}